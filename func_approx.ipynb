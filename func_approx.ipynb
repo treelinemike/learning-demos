{
 "cells": [
  {
   "cell_type": "code",
   "execution_count": null,
   "metadata": {},
   "outputs": [],
   "source": [
    "# very basic neural network function approximator for y = sqrt(x0^2 + x1^2)\n",
    "\n",
    "# import required packages\n",
    "# note: as of tensorflow 1.10.0 keras is included, no longer need to install separate keras package, just use:\n",
    "# from tensorflow.keras import ...\n",
    "import numpy as np\n",
    "import matplotlib.pyplot as plt\n",
    "import tensorflow as tf\n",
    "import pydot"
   ]
  },
  {
   "cell_type": "code",
   "execution_count": null,
   "metadata": {},
   "outputs": [],
   "source": [
    "# generate training data for y = sqrt(x0^2 + x1^2)\n",
    "x = np.random.randint(0, high=20, size=(5000,2))\n",
    "y = np.power(np.power(x[:,0],2) + np.power(x[:,1],2), 0.5)"
   ]
  },
  {
   "cell_type": "code",
   "execution_count": null,
   "metadata": {},
   "outputs": [],
   "source": [
    "# assemble model\n",
    "model = tf.keras.models.Sequential()\n",
    "model.add(tf.keras.layers.Dense(units=200,input_dim=np.size(x,1), activation='relu')) # try adding a kernel initializer (uniform?) to each layer\n",
    "model.add(tf.keras.layers.Dense(200, activation='relu'))\n",
    "model.add(tf.keras.layers.Dense(200, activation='relu'))\n",
    "model.add(tf.keras.layers.Dense(200, activation='relu'))\n",
    "model.add(tf.keras.layers.Dense(units=1))\n",
    "model.compile(loss='mse',optimizer='adam',metrics=['accuracy'])\n",
    "model.summary()"
   ]
  },
  {
   "cell_type": "code",
   "execution_count": null,
   "metadata": {},
   "outputs": [],
   "source": [
    "# train model\n",
    "model.fit(np.array(x),np.array(y),epochs=20,batch_size=32,verbose=0)"
   ]
  },
  {
   "cell_type": "code",
   "execution_count": null,
   "metadata": {},
   "outputs": [],
   "source": [
    "# perform a prediction\n",
    "print(model.predict(np.reshape(np.array([11,13]),(1,2))))"
   ]
  },
  {
   "cell_type": "code",
   "execution_count": null,
   "metadata": {},
   "outputs": [],
   "source": [
    "# visualize model\n",
    "tf.keras.utils.plot_model(model, to_file='model1.png', show_shapes=True)"
   ]
  },
  {
   "cell_type": "code",
   "execution_count": null,
   "metadata": {},
   "outputs": [],
   "source": [
    "# REPEAT ABOVE, but now train with one example at a time...\n",
    "\n",
    "# assemble model for on-line training (one training example available at a time)\n",
    "#model = tf.keras.models.Sequential()\n",
    "#model.add(tf.keras.layers.Dense(units=200,input_dim=np.size(x,1), activation='relu')) # try adding a kernel initializer (uniform?) to each layer\n",
    "#model.add(tf.keras.layers.Dense(units=1))\n",
    "#model.compile(loss='mse',optimizer='adam',metrics=['accuracy'])\n",
    "#model.summary()"
   ]
  },
  {
   "cell_type": "code",
   "execution_count": null,
   "metadata": {},
   "outputs": [],
   "source": [
    "# perform a prediction before any training\n",
    "#model.predict(np.reshape(np.array([11,13]),(1,2)))"
   ]
  },
  {
   "cell_type": "code",
   "execution_count": null,
   "metadata": {},
   "outputs": [],
   "source": [
    "# train model sequentially (this does't seem like a good idea...)\n",
    "# goes so much slower in tensorflow 2.0\n",
    "#for i in range(0,np.size(x,0)):\n",
    "#    model.fit(np.reshape(x[i],(1,2)),np.array([y[i]]),epochs=1,verbose=0)"
   ]
  },
  {
   "cell_type": "code",
   "execution_count": null,
   "metadata": {},
   "outputs": [],
   "source": [
    "# perform a prediction\n",
    "#print(model.predict(np.reshape(np.array([11,13]),(1,2))))"
   ]
  },
  {
   "cell_type": "code",
   "execution_count": null,
   "metadata": {},
   "outputs": [],
   "source": [
    "#np.reshape(np.array([11,13]),(1,2))"
   ]
  },
  {
   "cell_type": "code",
   "execution_count": null,
   "metadata": {},
   "outputs": [],
   "source": [
    "# visualize model\n",
    "#tf.keras.utils.plot_model(model, to_file='model2.png', show_shapes=True)"
   ]
  }
 ],
 "metadata": {
  "anaconda-cloud": {},
  "kernelspec": {
   "display_name": "Python 3",
   "language": "python",
   "name": "python3"
  },
  "language_info": {
   "codemirror_mode": {
    "name": "ipython",
    "version": 3
   },
   "file_extension": ".py",
   "mimetype": "text/x-python",
   "name": "python",
   "nbconvert_exporter": "python",
   "pygments_lexer": "ipython3",
   "version": "3.7.7"
  }
 },
 "nbformat": 4,
 "nbformat_minor": 2
}
