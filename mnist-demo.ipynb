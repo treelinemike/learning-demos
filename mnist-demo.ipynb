{
 "cells": [
  {
   "cell_type": "code",
   "execution_count": 1,
   "metadata": {},
   "outputs": [],
   "source": [
    "# \"simple\" implementation of CNN for MNIST handwriting dataset classification\n",
    "# input: 28px x 28px grayscale image of a handwritten charachter\n",
    "# output: classification label, an integer in [0,9] \n",
    "#\n",
    "# uses data available in tensorflow_datasets (tfds)\n",
    "# stores data as a tensorflow.data.Dataset object"
   ]
  },
  {
   "cell_type": "code",
   "execution_count": 2,
   "metadata": {},
   "outputs": [],
   "source": [
    "# required imports\n",
    "import tensorflow as tf\n",
    "from tensorflow.keras import layers, models\n",
    "import tensorflow_datasets as tfds\n",
    "import IPython.display as display\n",
    "#from PIL import Image                 # NOTE: PIL is not maintained but Pillow is, and this line works with it...\n",
    "import matplotlib.pyplot as plt\n",
    "import numpy as np"
   ]
  },
  {
   "cell_type": "code",
   "execution_count": 3,
   "metadata": {},
   "outputs": [
    {
     "name": "stdout",
     "output_type": "stream",
     "text": [
      "<_OptionsDataset shapes: ((28, 28, 1), ()), types: (tf.uint8, tf.int64)>\n",
      "Size of train set: 60000\n",
      "Size of train set: 60000\n",
      "<_OptionsDataset shapes: ((28, 28, 1), ()), types: (tf.uint8, tf.int64)>\n",
      "Size of test set: 10000\n",
      "Size of test set: 10000\n"
     ]
    }
   ],
   "source": [
    "# load MNIST data from tensorflow_datasets\n",
    "# data will download from the internet on the first run, retrieved from disk subsequently\n",
    "# note: as_supervised option converts to tuple format (data,label) instead of dictionary format, not entirely sure that this is necessary...\n",
    "(ds_train,ds_test), ds_info = tfds.load('mnist', split=['train', 'test'], shuffle_files=True, data_dir='c:\\\\tensorflow-datasets',as_supervised=True,with_info=True)\n",
    "\n",
    "# ensure that data are in correct format\n",
    "assert isinstance(ds_train, tf.data.Dataset)\n",
    "assert isinstance(ds_test, tf.data.Dataset)\n",
    "\n",
    "# display TRAINING dataset details and show number of elements\n",
    "print(ds_train)\n",
    "#print(sum(1 for i in ds_train)) # too slow, plus it \"uses up\" iterator\n",
    "print('Size of train set: ' + np.array2string(tf.data.experimental.cardinality(ds_train).numpy()))\n",
    "print('Size of train set: ' + str(ds_info.splits['train'].num_examples)) # better?\n",
    "\n",
    "# display TRAINING dataset details and show number of elements\n",
    "print(ds_test)\n",
    "#print(sum(1 for i in ds_test)) # too slow, plus it \"uses up\" iterator\n",
    "print('Size of test set: ' + np.array2string(tf.data.experimental.cardinality(ds_test).numpy()))\n",
    "print('Size of test set: ' + str(ds_info.splits['test'].num_examples)) "
   ]
  },
  {
   "cell_type": "code",
   "execution_count": 4,
   "metadata": {},
   "outputs": [],
   "source": [
    "# copy training dataset so we can look at some samples\n",
    "# if we don't copy it we will \"use up\" the iterator, and it can't just be reset\n",
    "ds_explore = ds_train\n",
    "myit = iter(ds_explore)"
   ]
  },
  {
   "cell_type": "code",
   "execution_count": 5,
   "metadata": {},
   "outputs": [
    {
     "name": "stdout",
     "output_type": "stream",
     "text": [
      "True Label: 0\n"
     ]
    },
    {
     "data": {
      "image/png": "[encoded data removed]",
      "text/plain": [
       "<Figure size 432x288 with 1 Axes>"
      ]
     },
     "metadata": {
      "needs_background": "light"
     },
     "output_type": "display_data"
    }
   ],
   "source": [
    "# display ONE image from training set\n",
    "# i.e. practice extracting a single image from the iterator and displaying with matplotlib\n",
    "thisInstance = next(myit)\n",
    "fig = plt.imshow(thisInstance[0].numpy().squeeze(),cmap='gray', vmin=0, vmax=255)\n",
    "fig.axes.get_xaxis().set_visible(False)\n",
    "fig.axes.get_yaxis().set_visible(False)\n",
    "#img = Image.fromarray(next(myit)[\"image\"])\n",
    "#img.show\n",
    "print('True Label: ' + np.array2string(thisInstance[1].numpy()) )"
   ]
  },
  {
   "cell_type": "code",
   "execution_count": 6,
   "metadata": {},
   "outputs": [
    {
     "data": {
      "image/png": "[encoded data removed]",
      "text/plain": [
       "<Figure size 432x288 with 5 Axes>"
      ]
     },
     "metadata": {
      "needs_background": "light"
     },
     "output_type": "display_data"
    }
   ],
   "source": [
    "# extract MULTIPLE images from training set\n",
    "fig,sp_axes = plt.subplots(1,5)\n",
    "subplotIdx = 0\n",
    "for inst in ds_explore.take(5):\n",
    "    sp_axes[subplotIdx].imshow(inst[0].numpy().squeeze(),cmap='gray',vmin=0,vmax=255)\n",
    "    sp_axes[subplotIdx].get_xaxis().set_visible(False)\n",
    "    sp_axes[subplotIdx].get_yaxis().set_visible(False)\n",
    "    sp_axes[subplotIdx].set_title( 'True: ' + np.array2string(inst[1].numpy()) )\n",
    "    subplotIdx += 1"
   ]
  },
  {
   "cell_type": "code",
   "execution_count": 7,
   "metadata": {},
   "outputs": [
    {
     "name": "stdout",
     "output_type": "stream",
     "text": [
      "Model: \"sequential\"\n",
      "_________________________________________________________________\n",
      "Layer (type)                 Output Shape              Param #   \n",
      "=================================================================\n",
      "conv2d (Conv2D)              (None, 26, 26, 32)        320       \n",
      "_________________________________________________________________\n",
      "max_pooling2d (MaxPooling2D) (None, 13, 13, 32)        0         \n",
      "_________________________________________________________________\n",
      "conv2d_1 (Conv2D)            (None, 11, 11, 64)        18496     \n",
      "_________________________________________________________________\n",
      "max_pooling2d_1 (MaxPooling2 (None, 5, 5, 64)          0         \n",
      "_________________________________________________________________\n",
      "conv2d_2 (Conv2D)            (None, 3, 3, 64)          36928     \n",
      "=================================================================\n",
      "Total params: 55,744\n",
      "Trainable params: 55,744\n",
      "Non-trainable params: 0\n",
      "_________________________________________________________________\n"
     ]
    }
   ],
   "source": [
    "# now, actually build the network\n",
    "model = models.Sequential()\n",
    "model.add(layers.Conv2D(32, (3, 3), activation='relu', input_shape=(28, 28,1)))\n",
    "model.add(layers.MaxPooling2D((2, 2)))\n",
    "model.add(layers.Conv2D(64, (3, 3), activation='relu'))\n",
    "model.add(layers.MaxPooling2D((2, 2)))\n",
    "model.add(layers.Conv2D(64, (3, 3), activation='relu'))\n",
    "model.summary()"
   ]
  },
  {
   "cell_type": "code",
   "execution_count": 8,
   "metadata": {},
   "outputs": [
    {
     "name": "stdout",
     "output_type": "stream",
     "text": [
      "Model: \"sequential\"\n",
      "_________________________________________________________________\n",
      "Layer (type)                 Output Shape              Param #   \n",
      "=================================================================\n",
      "conv2d (Conv2D)              (None, 26, 26, 32)        320       \n",
      "_________________________________________________________________\n",
      "max_pooling2d (MaxPooling2D) (None, 13, 13, 32)        0         \n",
      "_________________________________________________________________\n",
      "conv2d_1 (Conv2D)            (None, 11, 11, 64)        18496     \n",
      "_________________________________________________________________\n",
      "max_pooling2d_1 (MaxPooling2 (None, 5, 5, 64)          0         \n",
      "_________________________________________________________________\n",
      "conv2d_2 (Conv2D)            (None, 3, 3, 64)          36928     \n",
      "_________________________________________________________________\n",
      "flatten (Flatten)            (None, 576)               0         \n",
      "_________________________________________________________________\n",
      "dense (Dense)                (None, 64)                36928     \n",
      "_________________________________________________________________\n",
      "dense_1 (Dense)              (None, 10)                650       \n",
      "=================================================================\n",
      "Total params: 93,322\n",
      "Trainable params: 93,322\n",
      "Non-trainable params: 0\n",
      "_________________________________________________________________\n"
     ]
    }
   ],
   "source": [
    "# flatten and add dense output layers\n",
    "model.add(layers.Flatten())\n",
    "model.add(layers.Dense(64, activation='relu'))\n",
    "model.add(layers.Dense(10))\n",
    "model.summary()"
   ]
  },
  {
   "cell_type": "code",
   "execution_count": 9,
   "metadata": {},
   "outputs": [],
   "source": [
    "# compile the model, specifying optimization strategy, loss function, and reporting metric(s)\n",
    "model.compile(optimizer='adam',\n",
    "              loss=tf.keras.losses.SparseCategoricalCrossentropy(from_logits=True),\n",
    "              metrics=['accuracy'])"
   ]
  },
  {
   "cell_type": "code",
   "execution_count": 10,
   "metadata": {},
   "outputs": [],
   "source": [
    "# convert TRAINING dataset to float datatype, shuffle + batch it, and cache for efficiency\n",
    "# directly from https://www.tensorflow.org/datasets/keras_example\n",
    "def normalize_img(image, label):   \n",
    "  \"\"\"Normalizes images: `uint8` -> `float32`.\"\"\"\n",
    "  return tf.cast(image, tf.float32) / 255., label\n",
    "\n",
    "ds_train = ds_train.map(\n",
    "    normalize_img, num_parallel_calls=tf.data.experimental.AUTOTUNE)  # data need to be in float32 format, given as uint8\n",
    "ds_train = ds_train.cache()   # cache dataset for more efficient shuffling and prevent reloading in each epoch\n",
    "ds_train = ds_train.shuffle(ds_info.splits['train'].num_examples)  # shuffle with buffer set to same size as dataset (ideal)\n",
    "ds_train = ds_train.batch(128)   # batch(N) -> arrange into batches of size N elements each\n",
    "ds_train = ds_train.prefetch(tf.data.experimental.AUTOTUNE) # performance enhancement https://www.tensorflow.org/guide/data_performance#prefetching"
   ]
  },
  {
   "cell_type": "code",
   "execution_count": 11,
   "metadata": {},
   "outputs": [],
   "source": [
    "# convert TESTING dataset to float datatype, batch it, and cache for efficiency\n",
    "# directly from https://www.tensorflow.org/datasets/keras_example\n",
    "ds_test = ds_test.map(\n",
    "    normalize_img, num_parallel_calls=tf.data.experimental.AUTOTUNE)\n",
    "ds_test = ds_test.batch(128)   # batch(N) -> arrange into batches of size N elements each\n",
    "ds_test = ds_test.cache()      # cache dataset to prevent reloading in each epoch\n",
    "ds_test = ds_test.prefetch(tf.data.experimental.AUTOTUNE)  # performance enhancement https://www.tensorflow.org/guide/data_performance#prefetching"
   ]
  },
  {
   "cell_type": "code",
   "execution_count": 12,
   "metadata": {},
   "outputs": [
    {
     "name": "stdout",
     "output_type": "stream",
     "text": [
      "Epoch 1/10\n",
      "469/469 [==============================] - 25s 53ms/step - loss: 0.2448 - accuracy: 0.9263 - val_loss: 0.0699 - val_accuracy: 0.9777\n",
      "Epoch 2/10\n",
      "469/469 [==============================] - 27s 58ms/step - loss: 0.0585 - accuracy: 0.9816 - val_loss: 0.0397 - val_accuracy: 0.9869\n",
      "Epoch 3/10\n",
      "469/469 [==============================] - 27s 58ms/step - loss: 0.0420 - accuracy: 0.9869 - val_loss: 0.0358 - val_accuracy: 0.9882\n",
      "Epoch 4/10\n",
      "469/469 [==============================] - 27s 58ms/step - loss: 0.0318 - accuracy: 0.9895 - val_loss: 0.0350 - val_accuracy: 0.9875\n",
      "Epoch 5/10\n",
      "469/469 [==============================] - 28s 59ms/step - loss: 0.0259 - accuracy: 0.9920 - val_loss: 0.0340 - val_accuracy: 0.9879\n",
      "Epoch 6/10\n",
      "469/469 [==============================] - 30s 63ms/step - loss: 0.0230 - accuracy: 0.9925 - val_loss: 0.0272 - val_accuracy: 0.9911\n",
      "Epoch 7/10\n",
      "469/469 [==============================] - 31s 67ms/step - loss: 0.0197 - accuracy: 0.9937 - val_loss: 0.0297 - val_accuracy: 0.9903\n",
      "Epoch 8/10\n",
      "469/469 [==============================] - 29s 62ms/step - loss: 0.0161 - accuracy: 0.9945 - val_loss: 0.0364 - val_accuracy: 0.9890\n",
      "Epoch 9/10\n",
      "469/469 [==============================] - 27s 57ms/step - loss: 0.0134 - accuracy: 0.9957 - val_loss: 0.0272 - val_accuracy: 0.9916\n",
      "Epoch 10/10\n",
      "469/469 [==============================] - 27s 58ms/step - loss: 0.0119 - accuracy: 0.9960 - val_loss: 0.0343 - val_accuracy: 0.9905\n"
     ]
    }
   ],
   "source": [
    "# train model in batches and epochs\n",
    "# if not batched this will give ValueError: Input 0 of layer sequential is incompatible with the layer: expected ndim=4, found ndim=3. Full shape received: [28, 28, 1]\n",
    "history = model.fit(ds_train,epochs=10,validation_data=ds_test)"
   ]
  },
  {
   "cell_type": "code",
   "execution_count": null,
   "metadata": {},
   "outputs": [],
   "source": []
  },
  {
   "cell_type": "code",
   "execution_count": null,
   "metadata": {},
   "outputs": [],
   "source": []
  },
  {
   "cell_type": "code",
   "execution_count": null,
   "metadata": {},
   "outputs": [],
   "source": []
  }
 ],
 "metadata": {
  "kernelspec": {
   "display_name": "Python 3",
   "language": "python",
   "name": "python3"
  },
  "language_info": {
   "codemirror_mode": {
    "name": "ipython",
    "version": 3
   },
   "file_extension": ".py",
   "mimetype": "text/x-python",
   "name": "python",
   "nbconvert_exporter": "python",
   "pygments_lexer": "ipython3",
   "version": "3.7.7"
  }
 },
 "nbformat": 4,
 "nbformat_minor": 4
}
