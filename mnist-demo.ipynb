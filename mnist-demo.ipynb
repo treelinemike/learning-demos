{
 "cells": [
  {
   "cell_type": "code",
   "execution_count": 115,
   "metadata": {},
   "outputs": [],
   "source": [
    "import tensorflow as tf\n",
    "import tensorflow_datasets as tfds\n",
    "import IPython.display as display\n",
    "#from PIL import Image                 # NOTE: PIL is not maintained but Pillow is, and this line works with it...\n",
    "import matplotlib.pyplot as plt\n",
    "import numpy as np"
   ]
  },
  {
   "cell_type": "code",
   "execution_count": 139,
   "metadata": {},
   "outputs": [
    {
     "name": "stdout",
     "output_type": "stream",
     "text": [
      "<_OptionsDataset shapes: {image: (28, 28, 1), label: ()}, types: {image: tf.uint8, label: tf.int64}>\n"
     ]
    }
   ],
   "source": [
    "# use this to look at which datasets are included\n",
    "#tfds.list_builders()\n",
    "ds = tfds.load('mnist', split='train', shuffle_files=True, data_dir='c:\\\\tensorflow-datasets')\n",
    "assert isinstance(ds, tf.data.Dataset)\n",
    "print(ds)"
   ]
  },
  {
   "cell_type": "code",
   "execution_count": 140,
   "metadata": {},
   "outputs": [
    {
     "name": "stdout",
     "output_type": "stream",
     "text": [
      "<_OptionsDataset shapes: {image: (28, 28, 1), label: ()}, types: {image: tf.uint8, label: tf.int64}>\n"
     ]
    }
   ],
   "source": [
    "print(ds)"
   ]
  },
  {
   "cell_type": "code",
   "execution_count": 141,
   "metadata": {},
   "outputs": [],
   "source": [
    "myit = iter(ds)"
   ]
  },
  {
   "cell_type": "code",
   "execution_count": 166,
   "metadata": {},
   "outputs": [
    {
     "name": "stdout",
     "output_type": "stream",
     "text": [
      "True Label: 9\n"
     ]
    },
    {
     "data": {
      "image/png": "[encoded data removed]",
      "text/plain": [
       "<Figure size 432x288 with 1 Axes>"
      ]
     },
     "metadata": {
      "needs_background": "light"
     },
     "output_type": "display_data"
    }
   ],
   "source": [
    "thisInstance = next(myit)\n",
    "fig = plt.imshow(thisInstance[\"image\"].numpy().squeeze(),cmap='gray', vmin=0, vmax=255)\n",
    "fig.axes.get_xaxis().set_visible(False)\n",
    "fig.axes.get_yaxis().set_visible(False)\n",
    "#img = Image.fromarray(next(myit)[\"image\"])\n",
    "#img.show\n",
    "print('True Label: ' + np.array2string(thisInstance[\"label\"].numpy()) )"
   ]
  },
  {
   "cell_type": "code",
   "execution_count": 183,
   "metadata": {},
   "outputs": [
    {
     "data": {
      "image/png": "[encoded data removed]",
      "text/plain": [
       "<Figure size 432x288 with 5 Axes>"
      ]
     },
     "metadata": {
      "needs_background": "light"
     },
     "output_type": "display_data"
    }
   ],
   "source": [
    "fig,sp_axes = plt.subplots(1,5)\n",
    "subplotIdx = 0\n",
    "for inst in ds.take(5):\n",
    "    sp_axes[subplotIdx].imshow(inst[\"image\"].numpy().squeeze(),cmap='gray',vmin=0,vmax=255)\n",
    "    sp_axes[subplotIdx].get_xaxis().set_visible(False)\n",
    "    sp_axes[subplotIdx].get_yaxis().set_visible(False)\n",
    "    sp_axes[subplotIdx].set_title( 'True: ' + np.array2string(inst[\"label\"].numpy()) )\n",
    "    subplotIdx += 1"
   ]
  },
  {
   "cell_type": "code",
   "execution_count": null,
   "metadata": {},
   "outputs": [],
   "source": []
  }
 ],
 "metadata": {
  "kernelspec": {
   "display_name": "Python 3",
   "language": "python",
   "name": "python3"
  },
  "language_info": {
   "codemirror_mode": {
    "name": "ipython",
    "version": 3
   },
   "file_extension": ".py",
   "mimetype": "text/x-python",
   "name": "python",
   "nbconvert_exporter": "python",
   "pygments_lexer": "ipython3",
   "version": "3.7.7"
  }
 },
 "nbformat": 4,
 "nbformat_minor": 4
}
